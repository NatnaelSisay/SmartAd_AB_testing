{
 "cells": [
  {
   "cell_type": "code",
   "execution_count": 1,
   "id": "0a8deef8",
   "metadata": {},
   "outputs": [],
   "source": [
    "import pandas as pd\n",
    "import numpy as np\n",
    "import scipy\n",
    "import random\n",
    "\n",
    "import matplotlib.pyplot as plt\n",
    "import seaborn as sns\n",
    "import warnings\n",
    "warnings.filterwarnings('ignore')"
   ]
  },
  {
   "cell_type": "code",
   "execution_count": 2,
   "id": "9fb8e7c7",
   "metadata": {},
   "outputs": [],
   "source": [
    "file_name = '../data/AdSmartABdata.csv'\n",
    "ad_df = pd.read_csv(file_name)"
   ]
  },
  {
   "cell_type": "markdown",
   "id": "3c282370",
   "metadata": {},
   "source": [
    "## Exposed and control Data"
   ]
  },
  {
   "cell_type": "markdown",
   "id": "8cb51182",
   "metadata": {},
   "source": [
    "### clean out usesrs who don't respond to the experiment"
   ]
  },
  {
   "cell_type": "code",
   "execution_count": 3,
   "id": "adb0f1b6",
   "metadata": {},
   "outputs": [],
   "source": [
    "clean_ad_df = ad_df[(ad_df['yes'] == 1) ^ (ad_df['no'] == 1)]\n",
    "clean_ad_df['converted'] = clean_ad_df.yes\n",
    "clean_control = clean_ad_df.groupby('experiment').get_group('control')\n",
    "clean_exposed = clean_ad_df.groupby('experiment').get_group('exposed')\n",
    "# clean_ad_df"
   ]
  },
  {
   "cell_type": "code",
   "execution_count": 4,
   "id": "c0d709e8",
   "metadata": {},
   "outputs": [
    {
     "data": {
      "text/html": [
       "<div>\n",
       "<style scoped>\n",
       "    .dataframe tbody tr th:only-of-type {\n",
       "        vertical-align: middle;\n",
       "    }\n",
       "\n",
       "    .dataframe tbody tr th {\n",
       "        vertical-align: top;\n",
       "    }\n",
       "\n",
       "    .dataframe thead th {\n",
       "        text-align: right;\n",
       "    }\n",
       "</style>\n",
       "<table border=\"1\" class=\"dataframe\">\n",
       "  <thead>\n",
       "    <tr style=\"text-align: right;\">\n",
       "      <th></th>\n",
       "      <th>converted</th>\n",
       "      <th>total</th>\n",
       "      <th>rate</th>\n",
       "    </tr>\n",
       "    <tr>\n",
       "      <th>experiment</th>\n",
       "      <th></th>\n",
       "      <th></th>\n",
       "      <th></th>\n",
       "    </tr>\n",
       "  </thead>\n",
       "  <tbody>\n",
       "    <tr>\n",
       "      <th>control</th>\n",
       "      <td>264</td>\n",
       "      <td>586</td>\n",
       "      <td>0.450512</td>\n",
       "    </tr>\n",
       "    <tr>\n",
       "      <th>exposed</th>\n",
       "      <td>308</td>\n",
       "      <td>657</td>\n",
       "      <td>0.468798</td>\n",
       "    </tr>\n",
       "  </tbody>\n",
       "</table>\n",
       "</div>"
      ],
      "text/plain": [
       "            converted  total      rate\n",
       "experiment                            \n",
       "control           264    586  0.450512\n",
       "exposed           308    657  0.468798"
      ]
     },
     "execution_count": 4,
     "metadata": {},
     "output_type": "execute_result"
    }
   ],
   "source": [
    "summary = clean_ad_df.pivot_table(values='converted', index='experiment', aggfunc=np.sum)\n",
    "summary['total'] = clean_ad_df.pivot_table(values='converted', index='experiment', aggfunc=lambda x: len(x))\n",
    "summary['rate'] = clean_ad_df.pivot_table(values='converted', index='experiment')\n",
    "summary"
   ]
  },
  {
   "cell_type": "code",
   "execution_count": 5,
   "id": "77eb1654",
   "metadata": {},
   "outputs": [
    {
     "data": {
      "text/plain": [
       "0.018285619295484168"
      ]
     },
     "execution_count": 5,
     "metadata": {},
     "output_type": "execute_result"
    }
   ],
   "source": [
    "\n",
    "control_converted = summary['converted'][0]\n",
    "control_total = summary['total'][0]\n",
    "control_rate = summary['rate'][0]\n",
    "\n",
    "exposed_converted = summary['converted'][1]\n",
    "exposed_total = summary['total'][1]\n",
    "exposed_rate = summary['rate'][1]\n",
    "\n",
    "rate_difference = exposed_rate-control_rate\n",
    "rate_difference"
   ]
  },
  {
   "cell_type": "markdown",
   "id": "651a1690",
   "metadata": {},
   "source": [
    "## 1.2 classic A/B analysis"
   ]
  },
  {
   "cell_type": "code",
   "execution_count": 6,
   "id": "6638e5ed",
   "metadata": {},
   "outputs": [],
   "source": [
    "\n",
    "class ClassicalTest:\n",
    "    def __init__(self, exposed, control, sample_size):\n",
    "        self.exposed = np.array(exposed.sample(sample_size))\n",
    "        self.control = np.array(control.sample(sample_size))\n",
    "        self.sample_size = sample_size\n",
    "        \n",
    "    def z_value(self):\n",
    "        e_mean = np.mean(self.exposed)\n",
    "        c_mean = np.mean(self.control)\n",
    "        #print(\"exposed mean:\", e_mean, \"control mean:\", c_mean)\n",
    "        z = (e_mean - c_mean)/(c_mean*(1-c_mean)/self.sample_size)**0.5\n",
    "        return z"
   ]
  },
  {
   "cell_type": "code",
   "execution_count": 7,
   "id": "a15c33f3",
   "metadata": {},
   "outputs": [],
   "source": [
    "classic_test = ClassicalTest(clean_exposed.converted, clean_control.converted, 550)"
   ]
  },
  {
   "cell_type": "code",
   "execution_count": 8,
   "id": "64c6ac00",
   "metadata": {},
   "outputs": [
    {
     "name": "stdout",
     "output_type": "stream",
     "text": [
      "z-value: 1.1148600461718396\n",
      "p-value: 0.13245520013028161\n"
     ]
    }
   ],
   "source": [
    "classic_test.z_value()\n",
    "print(\"z-value:\", classic_test.z_value())\n",
    "print(\"p-value:\", scipy.stats.norm.sf(classic_test.z_value()))"
   ]
  }
 ],
 "metadata": {
  "kernelspec": {
   "display_name": "Python 3",
   "language": "python",
   "name": "python3"
  },
  "language_info": {
   "codemirror_mode": {
    "name": "ipython",
    "version": 3
   },
   "file_extension": ".py",
   "mimetype": "text/x-python",
   "name": "python",
   "nbconvert_exporter": "python",
   "pygments_lexer": "ipython3",
   "version": "3.8.8"
  }
 },
 "nbformat": 4,
 "nbformat_minor": 5
}
